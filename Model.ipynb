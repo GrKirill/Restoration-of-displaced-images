{
 "cells": [
  {
   "cell_type": "code",
   "execution_count": 11,
   "metadata": {
    "collapsed": true
   },
   "outputs": [],
   "source": [
    "from dataset_generator import dataset_generator\n",
    "from Model import Model\n",
    "import random\n",
    "import warnings\n",
    "import matplotlib.pyplot as plt\n",
    "from scipy.interpolate import spline\n",
    "import numpy as np\n",
    "import tensorflow as tf\n",
    "import math\n",
    "%matplotlib inline\n",
    "warnings.filterwarnings(\"ignore\")"
   ]
  },
  {
   "cell_type": "code",
   "execution_count": 2,
   "metadata": {
    "collapsed": true
   },
   "outputs": [],
   "source": [
    "train_set = dataset_generator(10000)\n",
    "test_set = dataset_generator(100)\n",
    "validation_set = dataset_generator(30)"
   ]
  },
  {
   "cell_type": "code",
   "execution_count": 3,
   "metadata": {
    "collapsed": true
   },
   "outputs": [],
   "source": [
    "x_train = np.array(train_set[0])\n",
    "y_train = np.array(train_set[1])\n",
    "x_validation = np.array(validation_set[0])\n",
    "y_validation = np.array(validation_set[1])\n",
    "x_test = np.array(test_set[0])\n",
    "y_test = np.array(test_set[1])"
   ]
  },
  {
   "cell_type": "code",
   "execution_count": 4,
   "metadata": {},
   "outputs": [
    {
     "name": "stdout",
     "output_type": "stream",
     "text": [
      "(10000, 600, 400, 3)\n",
      "(10000, 8, 1)\n"
     ]
    }
   ],
   "source": [
    "print(x_train.shape)\n",
    "print(y_train.shape)"
   ]
  },
  {
   "cell_type": "code",
   "execution_count": 5,
   "metadata": {
    "collapsed": true
   },
   "outputs": [],
   "source": [
    "new_y_train = y_train.reshape(10000,8)\n",
    "new_y_validation  = y_validation.reshape(30,8)\n",
    "new_y_test = y_test.reshape(100,8)"
   ]
  },
  {
   "cell_type": "code",
   "execution_count": 6,
   "metadata": {},
   "outputs": [
    {
     "data": {
      "text/plain": [
       "(10000, 600, 400, 3)"
      ]
     },
     "execution_count": 6,
     "metadata": {},
     "output_type": "execute_result"
    }
   ],
   "source": [
    "x_train.shape"
   ]
  },
  {
   "cell_type": "code",
   "execution_count": 14,
   "metadata": {},
   "outputs": [
    {
     "name": "stdout",
     "output_type": "stream",
     "text": [
      "Cost after epoch 1: 61043.346534\n",
      "Cost after epoch 2: 382.995413\n",
      "Cost after epoch 3: 334.955699\n",
      "Cost after epoch 4: 324.571862\n",
      "Cost after epoch 5: 351.669630\n",
      "Cost after epoch 6: 320.401361\n",
      "Cost after epoch 7: 324.098537\n",
      "Cost after epoch 8: 354.197861\n",
      "Cost after epoch 9: 333.598533\n",
      "Cost after epoch 10: 325.319625\n"
     ]
    },
    {
     "data": {
      "image/png": "[encoded data removed]",
      "text/plain": [
       "<matplotlib.figure.Figure at 0x10437d588>"
      ]
     },
     "metadata": {},
     "output_type": "display_data"
    },
    {
     "name": "stdout",
     "output_type": "stream",
     "text": [
      "CPU times: user 11h 54min 26s, sys: 2h 5min 41s, total: 14h 7s\n",
      "Wall time: 5h 4min 31s\n"
     ]
    }
   ],
   "source": [
    "%%time\n",
    "model = Model()\n",
    "model.train(x_train,x_validation, new_y_train, new_y_validation, learning_rate = 0.001, num_epochs = 10, minibatch_size = 32)"
   ]
  },
  {
   "cell_type": "code",
   "execution_count": 15,
   "metadata": {},
   "outputs": [
    {
     "data": {
      "text/plain": [
       "array([[  24.7352066 ,   96.12860107,  348.79806519,  112.75649261,\n",
       "         371.10028076,  529.30407715,   33.74976349,  527.5335083 ],\n",
       "       [  42.35882187,   71.52844238,  339.60903931,   80.48856354,\n",
       "         344.75030518,  520.14569092,   38.64998245,  535.95483398],\n",
       "       [  20.59827614,   51.81804276,  355.85794067,  101.11580658,\n",
       "         363.59069824,  539.47741699,   77.57732391,  501.70651245]], dtype=float32)"
      ]
     },
     "execution_count": 15,
     "metadata": {},
     "output_type": "execute_result"
    }
   ],
   "source": [
    "model.predict(x_test[:3])"
   ]
  },
  {
   "cell_type": "code",
   "execution_count": 16,
   "metadata": {},
   "outputs": [
    {
     "data": {
      "text/plain": [
       "array([[  15.70103989,  117.3973076 ,  379.41079209,  118.03119824,\n",
       "         351.41252024,  530.11145568,   40.55815649,  527.05058188],\n",
       "       [  33.60125431,   74.60279996,  321.69010276,   69.51510848,\n",
       "         331.81591846,  542.39194265,   27.30629962,  512.22548641],\n",
       "       [   5.03143548,   40.90526986,  369.58819798,  103.12137734,\n",
       "         332.49794926,  569.36627113,   56.55444251,  484.26799727]])"
      ]
     },
     "execution_count": 16,
     "metadata": {},
     "output_type": "execute_result"
    }
   ],
   "source": [
    "new_y_test[:3]"
   ]
  },
  {
   "cell_type": "code",
   "execution_count": null,
   "metadata": {
    "collapsed": true
   },
   "outputs": [],
   "source": []
  }
 ],
 "metadata": {
  "anaconda-cloud": {},
  "kernelspec": {
   "display_name": "Python [default]",
   "language": "python",
   "name": "python3"
  },
  "language_info": {
   "codemirror_mode": {
    "name": "ipython",
    "version": 3
   },
   "file_extension": ".py",
   "mimetype": "text/x-python",
   "name": "python",
   "nbconvert_exporter": "python",
   "pygments_lexer": "ipython3",
   "version": "3.5.2"
  }
 },
 "nbformat": 4,
 "nbformat_minor": 2
}
